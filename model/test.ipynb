{
 "cells": [
  {
   "cell_type": "code",
   "execution_count": null,
   "metadata": {},
   "outputs": [],
   "source": [
    "import pandas as pd\n",
    "from sklearn.preprocessing import OneHotEncoder\n",
    "\n",
    "\n",
    "df = pd.DataFrame({\n",
    "    'color': ['red', 'blue', 'green', 'yellow'],\n",
    "    'size': ['S', 'M', 'L', 'XL'],\n",
    "    'brand': ['Nike', 'Adidas', 'Puma', 'Reebok']\n",
    "})\n",
    "\n",
    "# One-hot encode\n",
    "encoder = OneHotEncoder(sparse=False)\n",
    "encoded_array = encoder.fit_transform(df)\n",
    "\n",
    "# Get feature names\n",
    "encoded_df = pd.DataFrame(encoded_array, columns=encoder.get_feature_names_out(df.columns))\n",
    "\n",
    "print(encoded_df)"
   ]
  },
  {
   "cell_type": "code",
   "execution_count": null,
   "metadata": {},
   "outputs": [],
   "source": []
  }
 ],
 "metadata": {
  "language_info": {
   "name": "python"
  }
 },
 "nbformat": 4,
 "nbformat_minor": 2
}
